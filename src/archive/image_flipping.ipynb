{
 "cells": [
  {
   "cell_type": "code",
   "execution_count": 1,
   "metadata": {},
   "outputs": [
    {
     "name": "stdout",
     "output_type": "stream",
     "text": [
      "Mirrored images created successfully!\n"
     ]
    }
   ],
   "source": [
    "import cv2\n",
    "import os\n",
    "\n",
    "original_folder = '../RUSSIAN_PLANAE_DB/original'\n",
    "\n",
    "mirrored_folder = '../RUSSIAN_PLANAE_DB/mirrored_horizontaly'\n",
    "\n",
    "os.makedirs(mirrored_folder, exist_ok=True)\n",
    "\n",
    "num_original_files = len(os.listdir(original_folder));\n",
    "\n",
    "for i in range(num_original_files + 1):\n",
    "    \n",
    "    original_filename = '{:04d}.png'.format(i)\n",
    "    original_path = os.path.join(original_folder, original_filename)\n",
    "    \n",
    "    if os.path.exists(original_path):\n",
    "        original_image = cv2.imread(original_path)\n",
    "        \n",
    "        mirrored_image = cv2.flip(original_image, 0)\n",
    "        \n",
    "        mirrored_filename = '{:04d}.png'.format(num_original_files + i + 1)\n",
    "        mirrored_path = os.path.join(mirrored_folder, mirrored_filename)\n",
    "        \n",
    "        cv2.imwrite(mirrored_path, mirrored_image)\n",
    "\n",
    "print(\"Mirrored images created successfully!\")"
   ]
  },
  {
   "cell_type": "code",
   "execution_count": null,
   "metadata": {},
   "outputs": [],
   "source": [
    "import cv2\n",
    "import os\n",
    "\n",
    "# Папка з зображеннями\n",
    "image_folder = '../RUSSIAN_PLANAE_DB/original'\n",
    "horizontal_fliped_folder = '../horizontal_fliped_folder'\n",
    "\n",
    "# Цикл по кожному файлу в папці\n",
    "for filename in os.listdir(image_folder):\n",
    "    # Читання зображення\n",
    "    img = cv2.imread(os.path.join(image_folder, filename))\n",
    "    \n",
    "    # Відображення вертикально\n",
    "    vertical_img = cv2.flip(img, 0)\n",
    "    cv2.imwrite(os.path.join(image_folder, 'vertical_' + filename), vertical_img)\n",
    "\n",
    "    # # Відображення горизонтально\n",
    "    # horizontal_img = cv2.flip(img, 1)\n",
    "    # cv2.imwrite(os.path.join(image_folder, 'horizontal_' + filename), horizontal_img)\n",
    "\n",
    "print(\"Mirror images created successfully!\")\n"
   ]
  }
 ],
 "metadata": {
  "kernelspec": {
   "display_name": "base",
   "language": "python",
   "name": "python3"
  },
  "language_info": {
   "codemirror_mode": {
    "name": "ipython",
    "version": 3
   },
   "file_extension": ".py",
   "mimetype": "text/x-python",
   "name": "python",
   "nbconvert_exporter": "python",
   "pygments_lexer": "ipython3",
   "version": "3.10.13"
  }
 },
 "nbformat": 4,
 "nbformat_minor": 2
}
