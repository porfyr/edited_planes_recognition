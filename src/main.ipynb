{
  "cells": [
    {
      "cell_type": "markdown",
      "metadata": {},
      "source": [
        "Модифіковуємо зображення виділяючи контури\n"
      ]
    },
    {
      "cell_type": "markdown",
      "metadata": {},
      "source": [
        "general purpose imports"
      ]
    },
    {
      "cell_type": "code",
      "execution_count": 4,
      "metadata": {},
      "outputs": [],
      "source": [
        "import os\n",
        "import cv2\n",
        "import torch\n",
        "import ultralytics"
      ]
    },
    {
      "cell_type": "markdown",
      "metadata": {},
      "source": [
        "image modifications"
      ]
    },
    {
      "cell_type": "code",
      "execution_count": null,
      "metadata": {},
      "outputs": [],
      "source": [
        "import os\n",
        "import cv2\n",
        "\n",
        "# src_dir = './RUSSIAN_PLANES_DB/train'\n",
        "# src_dir = '../RUSSIAN_PLANAE_DB/test_10/'\n",
        "# src_dir = '../RUSSIAN_PLANAE_DB/original/'\n",
        "# dest_dir = '../RUSSIAN_PLANAE_DB/full_modified/'\n",
        "\n",
        "src_dir =  \"C:\\\\Users\\\\Северин\\\\Documents\\\\unik\\\\kursova\\\\DB\\\\src\\\\original_src\"\n",
        "dest_dir = \"C:\\\\Users\\\\Северин\\\\Documents\\\\unik\\\\kursova\\\\DB\\\\src\\\\modified_src\"\n",
        "\n",
        "\n",
        "for filename in os.listdir(src_dir):\n",
        "    if filename.endswith('.jpg') or filename.endswith('.jpeg') or filename.endswith('.png'):\n",
        "        img_path = os.path.join(src_dir, filename)\n",
        "        img = cv2.imread(img_path)\n",
        "        print(img)\n",
        "        cv2.imshow('image', img)\n",
        "        print(os.path.exists(img_path))\n",
        "        #CANNY\n",
        "        # edges = cv2.Canny(img,150,250)\n",
        "\n",
        "        #LAPLACE\n",
        "        # LESS_CONTRAST_EDGES (ver 1)\n",
        "        # denoise = cv2.GaussianBlur(img, (3,3), 0)\n",
        "        # MORE_CONTRAST_EDGES (ver 2)\n",
        "        denoise = cv2.GaussianBlur(img, (1,1), 0)\n",
        "        \n",
        "        #FURTHER_PROCESSING\n",
        "        to_gray = cv2.cvtColor(denoise,  cv2.COLOR_BGR2GRAY)\n",
        "        res_lap = cv2.Laplacian(to_gray, cv2.CV_16S, ksize=3)\n",
        "\n",
        "        cv2.imwrite(os.path.join(dest_dir, filename), res_lap)\n",
        "        # cv2.imwrite(os.path.join('./test_10_images/', filename), denoise) # last arg denoise or edges\n",
        "        # cv2.imwrite(os.path.join('./test_10_images/', filename), to_gray)\n"
      ]
    },
    {
      "cell_type": "markdown",
      "metadata": {},
      "source": [
        "Для розподілення датасету по train val папках\n"
      ]
    },
    {
      "cell_type": "code",
      "execution_count": null,
      "metadata": {},
      "outputs": [],
      "source": [
        "import os\n",
        "import cv2\n",
        "import shutil\n",
        "\n",
        "\n",
        "# Шлях до папки з зображеннями\n",
        "src_folder =   \"C:\\\\Users\\\\Северин\\\\Documents\\\\unik\\\\kursova\\\\DB\\\\src\\\\modified_src\"\n",
        "train_folder = \"C:\\\\Users\\\\Северин\\\\Documents\\\\unik\\\\kursova\\\\DB\\\\images\\\\train\"\n",
        "val_folder =   \"C:\\\\Users\\\\Северин\\\\Documents\\\\unik\\\\kursova\\\\DB\\\\images\\\\val\"\n",
        "\n",
        "# Отримати список всіх файлів у початковій папці\n",
        "all_files = [f for f in os.listdir(src_folder) if os.path.isfile(os.path.join(src_folder, f))]\n",
        "\n",
        "# Відсортувати файли (опціонально, залежить від вимог)\n",
        "all_files.sort()\n",
        "\n",
        "# Останні 50 файлів для валідаційного набору\n",
        "val_files = all_files[-50:]\n",
        "# Решта файлів для тренувального набору\n",
        "train_files = all_files[:-50]\n",
        "\n",
        "# Створити папки train та val, якщо вони ще не існують\n",
        "os.makedirs(train_folder, exist_ok=True)\n",
        "os.makedirs(val_folder, exist_ok=True)\n",
        "\n",
        "# Переміщення файлів\n",
        "for file_name in train_files:\n",
        "    shutil.move(os.path.join(src_folder, file_name), os.path.join(train_folder, file_name))\n",
        "\n",
        "for file_name in val_files:\n",
        "    shutil.move(os.path.join(src_folder, file_name), os.path.join(val_folder, file_name))\n",
        "\n",
        "print(\"Файли успішно розподілені між train та val папками.\")\n"
      ]
    },
    {
      "cell_type": "markdown",
      "metadata": {},
      "source": [
        "Тренування моделі"
      ]
    },
    {
      "cell_type": "code",
      "execution_count": null,
      "metadata": {},
      "outputs": [],
      "source": [
        "# TRAINING & TEST MODEL\n",
        "import torch\n",
        "from ultralytics import YOLO\n",
        "import os\n",
        "\n",
        "device = 'cuda' if torch.cuda.is_available() else 'cpu'\n",
        "print(f'avialable device: {device}')\n",
        "torch.backends.cudnn.enabled = False\n",
        "\n",
        "# Load a model\n",
        "# project_folder = \"C:\\\\Users\\\\Северин\\\\Documents\\\\unik\\\\kursova\"\n",
        "# model = YOLO('yolov8n.yaml')\n",
        "# data = project_folder + 'src/CustomPlane_copy.yaml'\n",
        "\n",
        "# load model\n",
        "data = \"CustomPlane.yaml\"\n",
        "model = YOLO('yolov8n.yaml')\n",
        "model = YOLO('pts\\\\yolov8n.pt')\n",
        "\n",
        "# Train and use the model with 527 images\n",
        "results = model.train(data=data, epochs=200, imgsz=720, augment=True, device=0)\n",
        "results = model.val()\n",
        "results = model('..\\\\DB\\\\images\\\\train\\\\0266.png')"
      ]
    },
    {
      "cell_type": "code",
      "execution_count": 4,
      "metadata": {},
      "outputs": [
        {
          "name": "stdout",
          "output_type": "stream",
          "text": [
            "\n",
            "image 1/1 /home/sn/bardachok_local/univer/kursova/src/../DB/images/train/0000.png: 960x1024 7 Helicopters, 6 USSR|CIV/Transport/Recon.|AN-24/26/30s, 926.6ms\n",
            "Speed: 20.3ms preprocess, 926.6ms inference, 3.5ms postprocess per image at shape (1, 3, 960, 1024)\n",
            "0\n"
          ]
        }
      ],
      "source": [
        "# import ultralytics\n",
        "from ultralytics import YOLO\n",
        "\n",
        "model = YOLO('yolov8n.yaml')\n",
        "model = YOLO('./pts/best_laplace.pt')\n",
        "\n",
        "results = model.predict('../DB/images/train/0000.png')\n",
        "# results = model.predict('../DB/original_images/0000.png')\n",
        "\n",
        "\n",
        "for i, result in enumerate(results):\n",
        "    boxes = result.boxes                # Boxes object for bounding box outputs\n",
        "    masks = result.masks                # Masks object for segmentation masks outputs\n",
        "    keypoints = result.keypoints        # Keypoints object for pose outputs\n",
        "    probs = result.probs                # Probs object for classification outputs\n",
        "    obb = result.obb                    # Oriented boxes object for OBB outputs\n",
        "    result.show()                            # display to screen\n",
        "    result.save(filename=f\"../detections/result_{i}.jpg\")  # save to disk"
      ]
    },
    {
      "cell_type": "code",
      "execution_count": 1,
      "metadata": {},
      "outputs": [
        {
          "ename": "NameError",
          "evalue": "name 'model' is not defined",
          "output_type": "error",
          "traceback": [
            "\u001b[1;31m---------------------------------------------------------------------------\u001b[0m",
            "\u001b[1;31mNameError\u001b[0m                                 Traceback (most recent call last)",
            "Cell \u001b[1;32mIn[1], line 1\u001b[0m\n\u001b[1;32m----> 1\u001b[0m test \u001b[38;5;241m=\u001b[39m \u001b[43mmodel\u001b[49m(\u001b[38;5;124m'\u001b[39m\u001b[38;5;124m..\u001b[39m\u001b[38;5;130;01m\\\\\u001b[39;00m\u001b[38;5;124mDB\u001b[39m\u001b[38;5;130;01m\\\\\u001b[39;00m\u001b[38;5;124mimages\u001b[39m\u001b[38;5;130;01m\\\\\u001b[39;00m\u001b[38;5;124mtrain\u001b[39m\u001b[38;5;130;01m\\\\\u001b[39;00m\u001b[38;5;124m0266.png\u001b[39m\u001b[38;5;124m'\u001b[39m)\n\u001b[0;32m      2\u001b[0m cv2\u001b[38;5;241m.\u001b[39mimshow(\u001b[38;5;124m\"\u001b[39m\u001b[38;5;124mimg\u001b[39m\u001b[38;5;124m\"\u001b[39m, test)\n",
            "\u001b[1;31mNameError\u001b[0m: name 'model' is not defined"
          ]
        }
      ],
      "source": [
        "test = model('..\\\\DB\\\\images\\\\train\\\\0266.png')\n",
        "cv2.imshow(\"img\", test)"
      ]
    },
    {
      "cell_type": "code",
      "execution_count": null,
      "metadata": {
        "id": "bpF9-vS_DAaf"
      },
      "outputs": [],
      "source": [
        "#IMAGE_PROCESSING\n",
        "from ultralytics import YOLO\n",
        "\n",
        "# Load a model\n",
        "# model = YOLO('yolov8n.yaml')\n",
        "model = YOLO('CustomPlane_copy.yaml')\n",
        "model = YOLO('./pts/yolov8n.pt')\n",
        "\n",
        "hyp = {\n",
        "       'flipud': 0.5,\n",
        "       'fliplr': 0.5,\n",
        "       'rotate': 0.5,\n",
        "       'mosaic': 0.3,\n",
        "       'mixup':  0.05\n",
        "}\n",
        "\n",
        "# Train and use the model with 527 images\n",
        "results = model.train(data='./CustomPlane_copy.yaml', epochs=500, imgsz=1000, hyp=hyp) \n",
        "results = model.val()\n",
        "# results = model('../RUSSIAN_PLANAE_DB/original/0266.png')\n",
        "\n"
      ]
    },
    {
      "cell_type": "code",
      "execution_count": null,
      "metadata": {},
      "outputs": [],
      "source": [
        "import cv2\n",
        "# model = YOLO('D:/DesktopFolders/Універ/5курс/Сем_2/ООП/neuron/ultralytics-main/examples/best_laplace_contrast.pt')\n",
        "model = YOLO('./pts/best_laplace_contrast.pt')\n",
        "# image='D:/temp_2/0223.png'\n",
        "image='../img_db/RUSSIAN_PLANAE_DB/0223.png'\n",
        "img = cv2.imread(image)\n",
        "class_name_dict = {\n",
        "    0: 'Helicopter',\n",
        "    1:'USSR|CIV/Transport|AN-124',\n",
        "    2:'USSR|CIV/Transport/Recon.|AN-24/26/30',\n",
        "    3:'USSR|Transport|AN-22',\n",
        "    4:'USSR|Transport|AN-12',\n",
        "    5:'USSR|CIV/Transport|AN-2',\n",
        "    6:'USSR|Transport/Refuel.|IL-76/78',\n",
        "    7:'USSR|Surv./MPA|IL-20/38',\n",
        "    8:'CZECHOSLOVAKIA|Trainer/G-A|L-39',\n",
        "    9:'RUSSIA|Trainer|YAK-130',\n",
        "    10:'USSR|AWACS|A-50',\n",
        "    11:'USSR|Bomber|TU-22',\n",
        "    12:'USSR|Strat.Bomber|TU-22M',\n",
        "    13:'USSR|Strat.Bomber/MAP|TU-95/142',\n",
        "    14:'USSR|Strat.Bomber|TU-160',\n",
        "    15:'USSR|Trainer|TU-134',\n",
        "    16:'CIV AIRCRAFT',\n",
        "    17:'USSR|Interceptor/G-A|MIG-31',\n",
        "    18:'USSR|Fighter|MIG-29',\n",
        "    19:'USSR|Mutlirole Fighter|SU-27/30/33/35',\n",
        "    20:'USSR|Fighter/Bomber|SU-34',\n",
        "    21:'USSR|CAS|SU-25',\n",
        "    22:'USSR|Tact.Bomber|SU-24'\n",
        "}\n",
        "results = model(img)[0]   \n",
        "for result in results.boxes.data.tolist():\n",
        "            x1, y1, x2, y2, score, class_id = result\n",
        "            cv2.rectangle(img, (int(x1), int(y1)), (int(x2), int(y2)), (0, 255, 0), 4)\n",
        "            cv2.putText(img, class_name_dict[int(class_id)].upper(), (int(x1), int(y1 - 10)),\n",
        "            cv2.FONT_HERSHEY_SIMPLEX,0.5, (0, 255, 0), 1, cv2.LINE_AA)\n",
        "            cv2.imwrite('recognized.jpg',img)"
      ]
    },
    {
      "cell_type": "code",
      "execution_count": null,
      "metadata": {},
      "outputs": [],
      "source": [
        "# colab version of train\n",
        "\n",
        "\n",
        "from ultralytics import YOLO\n",
        "import os\n",
        "\n",
        "# Load a model\n",
        "# model = YOLO('yolov8n.yaml')\n",
        "data = project_folder + 'src/CustomPlane_copy.yaml'\n",
        "\n",
        "# load model\n",
        "model = YOLO('yolov8n.yaml')\n",
        "model = YOLO('yolov8n.pt')\n",
        "\n",
        "# Train and use the model with 527 images\n",
        "results = model.train(data=data, epochs=100, imgsz=720, augment=True, batch=16)\n",
        "results = model.val()\n",
        "# results = model('../RUSSIAN_PLANAE_DB/original/0266.png')"
      ]
    },
    {
      "cell_type": "code",
      "execution_count": null,
      "metadata": {},
      "outputs": [],
      "source": []
    }
  ],
  "metadata": {
    "accelerator": "GPU",
    "colab": {
      "name": "YOLOv8 Tutorial",
      "provenance": [],
      "toc_visible": true
    },
    "kernelspec": {
      "display_name": "Python 3",
      "name": "python3"
    },
    "language_info": {
      "codemirror_mode": {
        "name": "ipython",
        "version": 3
      },
      "file_extension": ".py",
      "mimetype": "text/x-python",
      "name": "python",
      "nbconvert_exporter": "python",
      "pygments_lexer": "ipython3",
      "version": "3.10.13"
    }
  },
  "nbformat": 4,
  "nbformat_minor": 0
}
