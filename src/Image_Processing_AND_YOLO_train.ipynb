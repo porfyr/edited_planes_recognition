{
  "cells": [
    {
      "cell_type": "code",
      "execution_count": 30,
      "metadata": {},
      "outputs": [],
      "source": [
        "#IMAGE_PROCESSING\n",
        "import cv2\n",
        "import os\n",
        "\n",
        "# src_directory = './RUSSIAN_PLANES_DB/train'\n",
        "# src_directory = '../RUSSIAN_PLANAE_DB/test_10/'\n",
        "src_directory = '../RUSSIAN_PLANAE_DB/original/'\n",
        "\n",
        "dest_directory = '../RUSSIAN_PLANAE_DB/full_modified/'\n",
        "\n",
        "\n",
        "for filename in os.listdir(src_directory):\n",
        "    if filename.endswith('.jpg') or filename.endswith('.jpeg') or filename.endswith('.png'):\n",
        "        img = cv2.imread(os.path.join(src_directory, filename))\n",
        "        \n",
        "        \n",
        "        #CANNY\n",
        "        # edges = cv2.Canny(img,150,250)\n",
        "\n",
        "        #LAPLACE\n",
        "        # LESS_CONTRAST_EDGES (ver 1)\n",
        "        # denoise = cv2.GaussianBlur(img, (3,3), 0)\n",
        "        # MORE_CONTRAST_EDGES (ver 2)\n",
        "        denoise = cv2.GaussianBlur(img, (1,1), 0)\n",
        "        \n",
        "        #FURTHER_PROCESSING\n",
        "        to_gray = cv2.cvtColor(denoise,  cv2.COLOR_BGR2GRAY)\n",
        "        res_lap = cv2.Laplacian(to_gray, cv2.CV_16S, ksize=3)\n",
        "\n",
        "        cv2.imwrite(os.path.join(dest_directory, filename), res_lap)\n",
        "        # cv2.imwrite(os.path.join('./test_10_images/', filename), denoise) # last arg denoise or edges\n",
        "        # cv2.imwrite(os.path.join('./test_10_images/', filename), to_gray)\n"
      ]
    },
    {
      "cell_type": "code",
      "execution_count": 32,
      "metadata": {
        "id": "bpF9-vS_DAaf"
      },
      "outputs": [
        {
          "ename": "PackageNotFoundError",
          "evalue": "No package metadata was found for torchvision",
          "output_type": "error",
          "traceback": [
            "\u001b[0;31m---------------------------------------------------------------------------\u001b[0m",
            "\u001b[0;31mPackageNotFoundError\u001b[0m                      Traceback (most recent call last)",
            "Cell \u001b[0;32mIn[32], line 2\u001b[0m\n\u001b[1;32m      1\u001b[0m \u001b[38;5;66;03m#IMAGE_PROCESSING\u001b[39;00m\n\u001b[0;32m----> 2\u001b[0m \u001b[38;5;28;01mfrom\u001b[39;00m \u001b[38;5;21;01multralytics\u001b[39;00m \u001b[38;5;28;01mimport\u001b[39;00m YOLO\n\u001b[1;32m      4\u001b[0m \u001b[38;5;66;03m# Load a model\u001b[39;00m\n\u001b[1;32m      5\u001b[0m \u001b[38;5;66;03m# model = YOLO('yolov8n.yaml')\u001b[39;00m\n\u001b[1;32m      6\u001b[0m model \u001b[38;5;241m=\u001b[39m YOLO(\u001b[38;5;124m'\u001b[39m\u001b[38;5;124mCustomPlane_copy.yaml\u001b[39m\u001b[38;5;124m'\u001b[39m)\n",
            "File \u001b[0;32m~/Desktop/miniforge3/lib/python3.10/site-packages/ultralytics/__init__.py:5\u001b[0m\n\u001b[1;32m      1\u001b[0m \u001b[38;5;66;03m# Ultralytics YOLO 🚀, AGPL-3.0 license\u001b[39;00m\n\u001b[1;32m      3\u001b[0m __version__ \u001b[38;5;241m=\u001b[39m \u001b[38;5;124m\"\u001b[39m\u001b[38;5;124m8.2.2\u001b[39m\u001b[38;5;124m\"\u001b[39m\n\u001b[0;32m----> 5\u001b[0m \u001b[38;5;28;01mfrom\u001b[39;00m \u001b[38;5;21;01multralytics\u001b[39;00m\u001b[38;5;21;01m.\u001b[39;00m\u001b[38;5;21;01mdata\u001b[39;00m\u001b[38;5;21;01m.\u001b[39;00m\u001b[38;5;21;01mexplorer\u001b[39;00m\u001b[38;5;21;01m.\u001b[39;00m\u001b[38;5;21;01mexplorer\u001b[39;00m \u001b[38;5;28;01mimport\u001b[39;00m Explorer\n\u001b[1;32m      6\u001b[0m \u001b[38;5;28;01mfrom\u001b[39;00m \u001b[38;5;21;01multralytics\u001b[39;00m\u001b[38;5;21;01m.\u001b[39;00m\u001b[38;5;21;01mmodels\u001b[39;00m \u001b[38;5;28;01mimport\u001b[39;00m RTDETR, SAM, YOLO, YOLOWorld\n\u001b[1;32m      7\u001b[0m \u001b[38;5;28;01mfrom\u001b[39;00m \u001b[38;5;21;01multralytics\u001b[39;00m\u001b[38;5;21;01m.\u001b[39;00m\u001b[38;5;21;01mmodels\u001b[39;00m\u001b[38;5;21;01m.\u001b[39;00m\u001b[38;5;21;01mfastsam\u001b[39;00m \u001b[38;5;28;01mimport\u001b[39;00m FastSAM\n",
            "File \u001b[0;32m~/Desktop/miniforge3/lib/python3.10/site-packages/ultralytics/data/__init__.py:3\u001b[0m\n\u001b[1;32m      1\u001b[0m \u001b[38;5;66;03m# Ultralytics YOLO 🚀, AGPL-3.0 license\u001b[39;00m\n\u001b[0;32m----> 3\u001b[0m \u001b[38;5;28;01mfrom\u001b[39;00m \u001b[38;5;21;01m.\u001b[39;00m\u001b[38;5;21;01mbase\u001b[39;00m \u001b[38;5;28;01mimport\u001b[39;00m BaseDataset\n\u001b[1;32m      4\u001b[0m \u001b[38;5;28;01mfrom\u001b[39;00m \u001b[38;5;21;01m.\u001b[39;00m\u001b[38;5;21;01mbuild\u001b[39;00m \u001b[38;5;28;01mimport\u001b[39;00m build_dataloader, build_grounding, build_yolo_dataset, load_inference_source\n\u001b[1;32m      5\u001b[0m \u001b[38;5;28;01mfrom\u001b[39;00m \u001b[38;5;21;01m.\u001b[39;00m\u001b[38;5;21;01mdataset\u001b[39;00m \u001b[38;5;28;01mimport\u001b[39;00m (\n\u001b[1;32m      6\u001b[0m     ClassificationDataset,\n\u001b[1;32m      7\u001b[0m     GroundingDataset,\n\u001b[0;32m   (...)\u001b[0m\n\u001b[1;32m     11\u001b[0m     YOLOMultiModalDataset,\n\u001b[1;32m     12\u001b[0m )\n",
            "File \u001b[0;32m~/Desktop/miniforge3/lib/python3.10/site-packages/ultralytics/data/base.py:17\u001b[0m\n\u001b[1;32m     14\u001b[0m \u001b[38;5;28;01mimport\u001b[39;00m \u001b[38;5;21;01mpsutil\u001b[39;00m\n\u001b[1;32m     15\u001b[0m \u001b[38;5;28;01mfrom\u001b[39;00m \u001b[38;5;21;01mtorch\u001b[39;00m\u001b[38;5;21;01m.\u001b[39;00m\u001b[38;5;21;01mutils\u001b[39;00m\u001b[38;5;21;01m.\u001b[39;00m\u001b[38;5;21;01mdata\u001b[39;00m \u001b[38;5;28;01mimport\u001b[39;00m Dataset\n\u001b[0;32m---> 17\u001b[0m \u001b[38;5;28;01mfrom\u001b[39;00m \u001b[38;5;21;01multralytics\u001b[39;00m\u001b[38;5;21;01m.\u001b[39;00m\u001b[38;5;21;01mutils\u001b[39;00m \u001b[38;5;28;01mimport\u001b[39;00m DEFAULT_CFG, LOCAL_RANK, LOGGER, NUM_THREADS, TQDM\n\u001b[1;32m     19\u001b[0m \u001b[38;5;28;01mfrom\u001b[39;00m \u001b[38;5;21;01m.\u001b[39;00m\u001b[38;5;21;01mutils\u001b[39;00m \u001b[38;5;28;01mimport\u001b[39;00m FORMATS_HELP_MSG, HELP_URL, IMG_FORMATS\n\u001b[1;32m     22\u001b[0m \u001b[38;5;28;01mclass\u001b[39;00m \u001b[38;5;21;01mBaseDataset\u001b[39;00m(Dataset):\n",
            "File \u001b[0;32m~/Desktop/miniforge3/lib/python3.10/site-packages/ultralytics/utils/__init__.py:47\u001b[0m\n\u001b[1;32m     45\u001b[0m ARM64 \u001b[38;5;241m=\u001b[39m platform\u001b[38;5;241m.\u001b[39mmachine() \u001b[38;5;129;01min\u001b[39;00m {\u001b[38;5;124m\"\u001b[39m\u001b[38;5;124marm64\u001b[39m\u001b[38;5;124m\"\u001b[39m, \u001b[38;5;124m\"\u001b[39m\u001b[38;5;124maarch64\u001b[39m\u001b[38;5;124m\"\u001b[39m}  \u001b[38;5;66;03m# ARM64 booleans\u001b[39;00m\n\u001b[1;32m     46\u001b[0m PYTHON_VERSION \u001b[38;5;241m=\u001b[39m platform\u001b[38;5;241m.\u001b[39mpython_version()\n\u001b[0;32m---> 47\u001b[0m TORCHVISION_VERSION \u001b[38;5;241m=\u001b[39m \u001b[43mimportlib\u001b[49m\u001b[38;5;241;43m.\u001b[39;49m\u001b[43mmetadata\u001b[49m\u001b[38;5;241;43m.\u001b[39;49m\u001b[43mversion\u001b[49m\u001b[43m(\u001b[49m\u001b[38;5;124;43m\"\u001b[39;49m\u001b[38;5;124;43mtorchvision\u001b[39;49m\u001b[38;5;124;43m\"\u001b[39;49m\u001b[43m)\u001b[49m  \u001b[38;5;66;03m# faster than importing torchvision\u001b[39;00m\n\u001b[1;32m     48\u001b[0m HELP_MSG \u001b[38;5;241m=\u001b[39m \u001b[38;5;124m\"\"\"\u001b[39m\n\u001b[1;32m     49\u001b[0m \u001b[38;5;124m    Usage examples for running YOLOv8:\u001b[39m\n\u001b[1;32m     50\u001b[0m \n\u001b[0;32m   (...)\u001b[0m\n\u001b[1;32m    102\u001b[0m \u001b[38;5;124m    GitHub: https://github.com/ultralytics/ultralytics\u001b[39m\n\u001b[1;32m    103\u001b[0m \u001b[38;5;124m    \u001b[39m\u001b[38;5;124m\"\"\"\u001b[39m\n\u001b[1;32m    105\u001b[0m \u001b[38;5;66;03m# Settings\u001b[39;00m\n",
            "File \u001b[0;32m~/Desktop/miniforge3/lib/python3.10/importlib/metadata/__init__.py:996\u001b[0m, in \u001b[0;36mversion\u001b[0;34m(distribution_name)\u001b[0m\n\u001b[1;32m    989\u001b[0m \u001b[38;5;28;01mdef\u001b[39;00m \u001b[38;5;21mversion\u001b[39m(distribution_name):\n\u001b[1;32m    990\u001b[0m \u001b[38;5;250m    \u001b[39m\u001b[38;5;124;03m\"\"\"Get the version string for the named package.\u001b[39;00m\n\u001b[1;32m    991\u001b[0m \n\u001b[1;32m    992\u001b[0m \u001b[38;5;124;03m    :param distribution_name: The name of the distribution package to query.\u001b[39;00m\n\u001b[1;32m    993\u001b[0m \u001b[38;5;124;03m    :return: The version string for the package as defined in the package's\u001b[39;00m\n\u001b[1;32m    994\u001b[0m \u001b[38;5;124;03m        \"Version\" metadata key.\u001b[39;00m\n\u001b[1;32m    995\u001b[0m \u001b[38;5;124;03m    \"\"\"\u001b[39;00m\n\u001b[0;32m--> 996\u001b[0m     \u001b[38;5;28;01mreturn\u001b[39;00m \u001b[43mdistribution\u001b[49m\u001b[43m(\u001b[49m\u001b[43mdistribution_name\u001b[49m\u001b[43m)\u001b[49m\u001b[38;5;241m.\u001b[39mversion\n",
            "File \u001b[0;32m~/Desktop/miniforge3/lib/python3.10/importlib/metadata/__init__.py:969\u001b[0m, in \u001b[0;36mdistribution\u001b[0;34m(distribution_name)\u001b[0m\n\u001b[1;32m    963\u001b[0m \u001b[38;5;28;01mdef\u001b[39;00m \u001b[38;5;21mdistribution\u001b[39m(distribution_name):\n\u001b[1;32m    964\u001b[0m \u001b[38;5;250m    \u001b[39m\u001b[38;5;124;03m\"\"\"Get the ``Distribution`` instance for the named package.\u001b[39;00m\n\u001b[1;32m    965\u001b[0m \n\u001b[1;32m    966\u001b[0m \u001b[38;5;124;03m    :param distribution_name: The name of the distribution package as a string.\u001b[39;00m\n\u001b[1;32m    967\u001b[0m \u001b[38;5;124;03m    :return: A ``Distribution`` instance (or subclass thereof).\u001b[39;00m\n\u001b[1;32m    968\u001b[0m \u001b[38;5;124;03m    \"\"\"\u001b[39;00m\n\u001b[0;32m--> 969\u001b[0m     \u001b[38;5;28;01mreturn\u001b[39;00m \u001b[43mDistribution\u001b[49m\u001b[38;5;241;43m.\u001b[39;49m\u001b[43mfrom_name\u001b[49m\u001b[43m(\u001b[49m\u001b[43mdistribution_name\u001b[49m\u001b[43m)\u001b[49m\n",
            "File \u001b[0;32m~/Desktop/miniforge3/lib/python3.10/importlib/metadata/__init__.py:548\u001b[0m, in \u001b[0;36mDistribution.from_name\u001b[0;34m(cls, name)\u001b[0m\n\u001b[1;32m    546\u001b[0m         \u001b[38;5;28;01mreturn\u001b[39;00m dist\n\u001b[1;32m    547\u001b[0m \u001b[38;5;28;01melse\u001b[39;00m:\n\u001b[0;32m--> 548\u001b[0m     \u001b[38;5;28;01mraise\u001b[39;00m PackageNotFoundError(name)\n",
            "\u001b[0;31mPackageNotFoundError\u001b[0m: No package metadata was found for torchvision"
          ]
        }
      ],
      "source": [
        "#IMAGE_PROCESSING\n",
        "from ultralytics import YOLO\n",
        "\n",
        "# Load a model\n",
        "# model = YOLO('yolov8n.yaml')\n",
        "model = YOLO('CustomPlane_copy.yaml')\n",
        "model = YOLO('./pts/yolov8n.pt')\n",
        "\n",
        "hyp = {\n",
        "       'flipud': 0.5,\n",
        "       'fliplr': 0.5,\n",
        "       'rotate': 0.5,\n",
        "       'mosaic': 0.3,\n",
        "       'mixup':  0.05\n",
        "}\n",
        "\n",
        "# Train and use the model with 527 images\n",
        "results = model.train(data='./CustomPlane_copy.yaml', epochs=500, imgsz=1000, hyp=hyp) \n",
        "results = model.val()\n",
        "# results = model('../RUSSIAN_PLANAE_DB/original/0266.png')\n",
        "\n"
      ]
    },
    {
      "cell_type": "code",
      "execution_count": 4,
      "metadata": {},
      "outputs": [
        {
          "name": "stderr",
          "output_type": "stream",
          "text": [
            "\n",
            "0: 640x1024 69 Helicopters, 233.0ms\n",
            "Speed: 7.0ms preprocess, 233.0ms inference, 1.0ms postprocess per image at shape (1, 3, 1024, 1024)\n"
          ]
        }
      ],
      "source": [
        "import cv2\n",
        "# model = YOLO('D:/DesktopFolders/Універ/5курс/Сем_2/ООП/neuron/ultralytics-main/examples/best_laplace_contrast.pt')\n",
        "model = YOLO('./pts/best_laplace_contrast.pt')\n",
        "# image='D:/temp_2/0223.png'\n",
        "image='../img_db/RUSSIAN_PLANAE_DB/0223.png'\n",
        "img = cv2.imread(image)\n",
        "class_name_dict = {\n",
        "    0: 'Helicopter',\n",
        "    1:'USSR|CIV/Transport|AN-124',\n",
        "    2:'USSR|CIV/Transport/Recon.|AN-24/26/30',\n",
        "    3:'USSR|Transport|AN-22',\n",
        "    4:'USSR|Transport|AN-12',\n",
        "    5:'USSR|CIV/Transport|AN-2',\n",
        "    6:'USSR|Transport/Refuel.|IL-76/78',\n",
        "    7:'USSR|Surv./MPA|IL-20/38',\n",
        "    8:'CZECHOSLOVAKIA|Trainer/G-A|L-39',\n",
        "    9:'RUSSIA|Trainer|YAK-130',\n",
        "    10:'USSR|AWACS|A-50',\n",
        "    11:'USSR|Bomber|TU-22',\n",
        "    12:'USSR|Strat.Bomber|TU-22M',\n",
        "    13:'USSR|Strat.Bomber/MAP|TU-95/142',\n",
        "    14:'USSR|Strat.Bomber|TU-160',\n",
        "    15:'USSR|Trainer|TU-134',\n",
        "    16:'CIV AIRCRAFT',\n",
        "    17:'USSR|Interceptor/G-A|MIG-31',\n",
        "    18:'USSR|Fighter|MIG-29',\n",
        "    19:'USSR|Mutlirole Fighter|SU-27/30/33/35',\n",
        "    20:'USSR|Fighter/Bomber|SU-34',\n",
        "    21:'USSR|CAS|SU-25',\n",
        "    22:'USSR|Tact.Bomber|SU-24'\n",
        "}\n",
        "results = model(img)[0]   \n",
        "for result in results.boxes.data.tolist():\n",
        "            x1, y1, x2, y2, score, class_id = result\n",
        "            cv2.rectangle(img, (int(x1), int(y1)), (int(x2), int(y2)), (0, 255, 0), 4)\n",
        "            cv2.putText(img, class_name_dict[int(class_id)].upper(), (int(x1), int(y1 - 10)),\n",
        "            cv2.FONT_HERSHEY_SIMPLEX,0.5, (0, 255, 0), 1, cv2.LINE_AA)\n",
        "            cv2.imwrite('recognized.jpg',img)"
      ]
    },
    {
      "cell_type": "code",
      "execution_count": null,
      "metadata": {},
      "outputs": [],
      "source": []
    },
    {
      "cell_type": "code",
      "execution_count": null,
      "metadata": {},
      "outputs": [],
      "source": []
    }
  ],
  "metadata": {
    "accelerator": "GPU",
    "colab": {
      "name": "YOLOv8 Tutorial",
      "provenance": [],
      "toc_visible": true
    },
    "kernelspec": {
      "display_name": "Python 3",
      "name": "python3"
    },
    "language_info": {
      "codemirror_mode": {
        "name": "ipython",
        "version": 3
      },
      "file_extension": ".py",
      "mimetype": "text/x-python",
      "name": "python",
      "nbconvert_exporter": "python",
      "pygments_lexer": "ipython3",
      "version": "3.10.13"
    }
  },
  "nbformat": 4,
  "nbformat_minor": 0
}
